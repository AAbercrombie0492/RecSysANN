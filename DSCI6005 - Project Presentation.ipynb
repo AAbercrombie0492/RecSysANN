{
 "cells": [
  {
   "cell_type": "markdown",
   "metadata": {
    "collapsed": true,
    "slideshow": {
     "slide_type": "slide"
    }
   },
   "source": [
    "<img src='images/slide3.png'>"
   ]
  },
  {
   "cell_type": "markdown",
   "metadata": {
    "collapsed": true,
    "slideshow": {
     "slide_type": "slide"
    }
   },
   "source": [
    "<img src='images/slide4.png'>"
   ]
  },
  {
   "cell_type": "markdown",
   "metadata": {},
   "source": [
    "> https://github.com/maciejkula/netrex"
   ]
  },
  {
   "cell_type": "markdown",
   "metadata": {
    "slideshow": {
     "slide_type": "slide"
    }
   },
   "source": [
    "<img src='images/slide4b.png'>"
   ]
  },
  {
   "cell_type": "markdown",
   "metadata": {
    "slideshow": {
     "slide_type": "slide"
    }
   },
   "source": [
    "<img src='images/slide5.png'>"
   ]
  },
  {
   "cell_type": "markdown",
   "metadata": {
    "slideshow": {
     "slide_type": "skip"
    }
   },
   "source": [
    "# Load Data"
   ]
  },
  {
   "cell_type": "code",
   "execution_count": 3,
   "metadata": {
    "collapsed": true,
    "slideshow": {
     "slide_type": "skip"
    }
   },
   "outputs": [],
   "source": [
    "import os\n",
    "import pandas as pd"
   ]
  },
  {
   "cell_type": "code",
   "execution_count": 20,
   "metadata": {
    "collapsed": true,
    "slideshow": {
     "slide_type": "skip"
    }
   },
   "outputs": [],
   "source": [
    "ratings_table = pd.read_csv('./data/ratings.csv', \n",
    "                      sep='\\t', index_col=[0])\n",
    "num_users = ratings_table['userid'].max()\n",
    "num_items = ratings_table['movieid'].max()\n",
    "ratings_table = ratings_table.drop('timestamp', 1)"
   ]
  },
  {
   "cell_type": "code",
   "execution_count": 22,
   "metadata": {
    "slideshow": {
     "slide_type": "skip"
    }
   },
   "outputs": [
    {
     "data": {
      "text/html": [
       "<div>\n",
       "<table border=\"1\" class=\"dataframe\">\n",
       "  <thead>\n",
       "    <tr style=\"text-align: right;\">\n",
       "      <th></th>\n",
       "      <th>userid</th>\n",
       "      <th>movieid</th>\n",
       "      <th>rating</th>\n",
       "      <th>user_emb_id</th>\n",
       "      <th>movie_emb_id</th>\n",
       "    </tr>\n",
       "  </thead>\n",
       "  <tbody>\n",
       "    <tr>\n",
       "      <th>0</th>\n",
       "      <td>1</td>\n",
       "      <td>1193</td>\n",
       "      <td>5</td>\n",
       "      <td>0</td>\n",
       "      <td>1192</td>\n",
       "    </tr>\n",
       "    <tr>\n",
       "      <th>1</th>\n",
       "      <td>1</td>\n",
       "      <td>661</td>\n",
       "      <td>3</td>\n",
       "      <td>0</td>\n",
       "      <td>660</td>\n",
       "    </tr>\n",
       "    <tr>\n",
       "      <th>2</th>\n",
       "      <td>1</td>\n",
       "      <td>914</td>\n",
       "      <td>3</td>\n",
       "      <td>0</td>\n",
       "      <td>913</td>\n",
       "    </tr>\n",
       "    <tr>\n",
       "      <th>3</th>\n",
       "      <td>1</td>\n",
       "      <td>3408</td>\n",
       "      <td>4</td>\n",
       "      <td>0</td>\n",
       "      <td>3407</td>\n",
       "    </tr>\n",
       "    <tr>\n",
       "      <th>4</th>\n",
       "      <td>1</td>\n",
       "      <td>2355</td>\n",
       "      <td>5</td>\n",
       "      <td>0</td>\n",
       "      <td>2354</td>\n",
       "    </tr>\n",
       "  </tbody>\n",
       "</table>\n",
       "</div>"
      ],
      "text/plain": [
       "   userid  movieid  rating  user_emb_id  movie_emb_id\n",
       "0       1     1193       5            0          1192\n",
       "1       1      661       3            0           660\n",
       "2       1      914       3            0           913\n",
       "3       1     3408       4            0          3407\n",
       "4       1     2355       5            0          2354"
      ]
     },
     "execution_count": 22,
     "metadata": {},
     "output_type": "execute_result"
    }
   ],
   "source": [
    "ratings_table.head()"
   ]
  },
  {
   "cell_type": "markdown",
   "metadata": {
    "slideshow": {
     "slide_type": "skip"
    }
   },
   "source": [
    "> Because data is sorted by **userid** need to shuffle it "
   ]
  },
  {
   "cell_type": "code",
   "execution_count": 37,
   "metadata": {
    "collapsed": true
   },
   "outputs": [],
   "source": [
    "shuffled_ratings = ratings_table.sample(frac=1., random_state=12345)\n",
    "users = shuffled_ratings['user_emb_id'].values\n",
    "items = shuffled_ratings['movie_emb_id'].values\n",
    "ratings = shuffled_ratings['rating'].values"
   ]
  },
  {
   "cell_type": "markdown",
   "metadata": {},
   "source": [
    "# Model"
   ]
  },
  {
   "cell_type": "code",
   "execution_count": 32,
   "metadata": {
    "collapsed": true
   },
   "outputs": [],
   "source": [
    "import numpy as np\n",
    "from keras.layers import Embedding, Reshape, Dropout, Dense, Merge, Input, Flatten, merge\n",
    "from keras.models import Sequential\n",
    "from keras.models import Model\n",
    "from keras.callbacks import Callback, EarlyStopping, ModelCheckpoint\n",
    "import math\n",
    "import matplotlib.pyplot as plt\n",
    "%matplotlib inline"
   ]
  },
  {
   "cell_type": "code",
   "execution_count": 27,
   "metadata": {
    "collapsed": true
   },
   "outputs": [],
   "source": [
    "embeddings_size = 100"
   ]
  },
  {
   "cell_type": "code",
   "execution_count": 31,
   "metadata": {},
   "outputs": [
    {
     "name": "stderr",
     "output_type": "stream",
     "text": [
      "/Users/jaimealmeida/anaconda/envs/dl/lib/python3.6/site-packages/ipykernel/__main__.py:8: UserWarning: The `Merge` layer is deprecated and will be removed after 08/2017. Use instead layers from `keras.layers.merge`, e.g. `add`, `concatenate`, etc.\n"
     ]
    }
   ],
   "source": [
    "U = Sequential()\n",
    "U.add(Embedding(num_users, embeddings_size, input_length=1))\n",
    "U.add(Reshape((embeddings_size,)))\n",
    "I = Sequential()\n",
    "I.add(Embedding(num_items, embeddings_size, input_length=1))\n",
    "I.add(Reshape((embeddings_size,)))\n",
    "M = Sequential()\n",
    "M.add(Merge([U, I], mode='dot', dot_axes=1))\n",
    "M.compile(loss='mean_squared_error', optimizer='adam')"
   ]
  },
  {
   "cell_type": "markdown",
   "metadata": {},
   "source": [
    "> Interesting discussion about issue: https://github.com/fchollet/keras/issues/1675 . Nonetheless, replacing  layer `Merge([], mode=\"dot\")` with `keras.layers.merge.dot` produces a far worse error when `Sequential models` are the input. "
   ]
  },
  {
   "cell_type": "code",
   "execution_count": 36,
   "metadata": {},
   "outputs": [
    {
     "name": "stdout",
     "output_type": "stream",
     "text": [
      "Train on 900188 samples, validate on 100021 samples\n",
      "Epoch 1/20\n",
      "900188/900188 [==============================] - 376s - loss: 1.3340 - val_loss: 0.8905\n",
      "Epoch 2/20\n",
      "900188/900188 [==============================] - 377s - loss: 0.7945 - val_loss: 0.8452\n",
      "Epoch 3/20\n",
      "900188/900188 [==============================] - 384s - loss: 0.6470 - val_loss: 0.8621\n",
      "Epoch 4/20\n",
      "900188/900188 [==============================] - 385s - loss: 0.5292 - val_loss: 0.9056\n",
      "Epoch 5/20\n",
      "900188/900188 [==============================] - 371s - loss: 0.4516 - val_loss: 0.9606\n"
     ]
    }
   ],
   "source": [
    "callbacks = [EarlyStopping('val_loss', patience=2), \n",
    "             ModelCheckpoint('./data/weights.h5', save_best_only=True)]\n",
    "history = M.fit([users, items], \n",
    "                    ratings, \n",
    "                    epochs=20, \n",
    "                    validation_split=.1, \n",
    "                    callbacks=callbacks)"
   ]
  },
  {
   "cell_type": "code",
   "execution_count": 52,
   "metadata": {},
   "outputs": [
    {
     "data": {
      "image/png": "[encoded data removed]",
      "text/plain": [
       "<matplotlib.figure.Figure at 0x11a671908>"
      ]
     },
     "metadata": {},
     "output_type": "display_data"
    }
   ],
   "source": [
    "results = pd.DataFrame({'epoch': [ i + 1 for i in history.epoch ],\n",
    "                     'training': [ math.sqrt(loss) for loss in history.history['loss'] ],\n",
    "                     'validation': [ math.sqrt(loss) for loss in history.history['val_loss'] ]})\n",
    "ax = results.ix[:,:].plot(x='epoch')\n",
    "ax.set_ylabel(\"RMSE\")\n",
    "ax.set_ylim([0.0,3.0]);"
   ]
  },
  {
   "cell_type": "markdown",
   "metadata": {},
   "source": [
    "> After the second epoch the model started overfitting. I will try to use a `Dropout` layer and a different optimizer to see if this helps."
   ]
  },
  {
   "cell_type": "markdown",
   "metadata": {},
   "source": [
    "## Adding dropout"
   ]
  },
  {
   "cell_type": "code",
   "execution_count": 55,
   "metadata": {},
   "outputs": [
    {
     "name": "stderr",
     "output_type": "stream",
     "text": [
      "/Users/jaimealmeida/anaconda/envs/dl/lib/python3.6/site-packages/ipykernel/__main__.py:8: UserWarning: The `Merge` layer is deprecated and will be removed after 08/2017. Use instead layers from `keras.layers.merge`, e.g. `add`, `concatenate`, etc.\n"
     ]
    }
   ],
   "source": [
    "U2 = Sequential()\n",
    "U2.add(Embedding(num_users, embeddings_size, input_length=1))\n",
    "U2.add(Reshape((embeddings_size,)))\n",
    "I2 = Sequential()\n",
    "I2.add(Embedding(num_items, embeddings_size, input_length=1))\n",
    "I2.add(Reshape((embeddings_size,)))\n",
    "M2 = Sequential()\n",
    "M2.add(Merge([U2, I2], mode='dot', dot_axes=1))\n",
    "M2.add(Dropout(0.2))\n",
    "M2.add(Dense(1, activation='linear'))\n",
    "M2.compile(loss='mean_squared_error', optimizer='adamax')"
   ]
  },
  {
   "cell_type": "code",
   "execution_count": 53,
   "metadata": {},
   "outputs": [
    {
     "name": "stdout",
     "output_type": "stream",
     "text": [
      "Train on 900188 samples, validate on 100021 samples\n",
      "Epoch 1/20\n",
      "900188/900188 [==============================] - 347s - loss: 0.3932 - val_loss: 0.9522\n",
      "Epoch 2/20\n",
      "900188/900188 [==============================] - 362s - loss: 0.3843 - val_loss: 0.9666\n",
      "Epoch 3/20\n",
      "900188/900188 [==============================] - 351s - loss: 0.3757 - val_loss: 0.9756\n",
      "Epoch 4/20\n",
      "900188/900188 [==============================] - 361s - loss: 0.3674 - val_loss: 0.9869\n"
     ]
    }
   ],
   "source": [
    "callbacks = [EarlyStopping('val_loss', patience=2), \n",
    "             ModelCheckpoint('./data/M2weights.h5', save_best_only=True)]\n",
    "history2 = M2.fit([users, items], \n",
    "                  ratings,\n",
    "                  epochs=20, \n",
    "                  validation_split=.1, \n",
    "                  callbacks=callbacks)"
   ]
  },
  {
   "cell_type": "markdown",
   "metadata": {},
   "source": [
    "> No improvement in performance, hence keep the former model."
   ]
  },
  {
   "cell_type": "markdown",
   "metadata": {
    "collapsed": true,
    "slideshow": {
     "slide_type": "slide"
    }
   },
   "source": [
    "<img src='images/slide6.png'>"
   ]
  },
  {
   "cell_type": "code",
   "execution_count": 12,
   "metadata": {
    "collapsed": true
   },
   "outputs": [],
   "source": [
    "import os\n",
    "import scipy.sparse as sp\n",
    "import pandas as pd\n",
    "import numpy as np\n",
    "from keras import backend as K\n",
    "from keras.optimizers import Adam\n",
    "from sklearn.metrics import roc_auc_score"
   ]
  },
  {
   "cell_type": "code",
   "execution_count": 8,
   "metadata": {
    "collapsed": true
   },
   "outputs": [],
   "source": [
    "ratings_table = pd.read_csv('./data/ratings.csv', \n",
    "                      sep='\\t', index_col=[0])\n",
    "num_users = ratings_table['userid'].max()\n",
    "num_items = ratings_table['movieid'].max()\n",
    "ratings_table = ratings_table.drop('timestamp', 1)"
   ]
  },
  {
   "cell_type": "code",
   "execution_count": 9,
   "metadata": {},
   "outputs": [
    {
     "data": {
      "text/html": [
       "<div>\n",
       "<table border=\"1\" class=\"dataframe\">\n",
       "  <thead>\n",
       "    <tr style=\"text-align: right;\">\n",
       "      <th></th>\n",
       "      <th>userid</th>\n",
       "      <th>movieid</th>\n",
       "      <th>rating</th>\n",
       "      <th>user_emb_id</th>\n",
       "      <th>movie_emb_id</th>\n",
       "    </tr>\n",
       "  </thead>\n",
       "  <tbody>\n",
       "    <tr>\n",
       "      <th>0</th>\n",
       "      <td>1</td>\n",
       "      <td>1193</td>\n",
       "      <td>5</td>\n",
       "      <td>0</td>\n",
       "      <td>1192</td>\n",
       "    </tr>\n",
       "    <tr>\n",
       "      <th>1</th>\n",
       "      <td>1</td>\n",
       "      <td>661</td>\n",
       "      <td>3</td>\n",
       "      <td>0</td>\n",
       "      <td>660</td>\n",
       "    </tr>\n",
       "    <tr>\n",
       "      <th>2</th>\n",
       "      <td>1</td>\n",
       "      <td>914</td>\n",
       "      <td>3</td>\n",
       "      <td>0</td>\n",
       "      <td>913</td>\n",
       "    </tr>\n",
       "    <tr>\n",
       "      <th>3</th>\n",
       "      <td>1</td>\n",
       "      <td>3408</td>\n",
       "      <td>4</td>\n",
       "      <td>0</td>\n",
       "      <td>3407</td>\n",
       "    </tr>\n",
       "    <tr>\n",
       "      <th>4</th>\n",
       "      <td>1</td>\n",
       "      <td>2355</td>\n",
       "      <td>5</td>\n",
       "      <td>0</td>\n",
       "      <td>2354</td>\n",
       "    </tr>\n",
       "  </tbody>\n",
       "</table>\n",
       "</div>"
      ],
      "text/plain": [
       "   userid  movieid  rating  user_emb_id  movie_emb_id\n",
       "0       1     1193       5            0          1192\n",
       "1       1      661       3            0           660\n",
       "2       1      914       3            0           913\n",
       "3       1     3408       4            0          3407\n",
       "4       1     2355       5            0          2354"
      ]
     },
     "execution_count": 9,
     "metadata": {},
     "output_type": "execute_result"
    }
   ],
   "source": [
    "ratings_table.head()"
   ]
  },
  {
   "cell_type": "code",
   "execution_count": 10,
   "metadata": {
    "collapsed": true
   },
   "outputs": [],
   "source": [
    "r = ratings_table[['userid', 'movieid', 'rating']]"
   ]
  },
  {
   "cell_type": "code",
   "execution_count": 13,
   "metadata": {
    "collapsed": true
   },
   "outputs": [],
   "source": [
    "# splitting table on train/test\n",
    "msk = np.random.rand(len(r)) < 0.8\n",
    "train = r[msk]\n",
    "test = r[~msk]"
   ]
  },
  {
   "cell_type": "code",
   "execution_count": 15,
   "metadata": {
    "collapsed": true
   },
   "outputs": [],
   "source": [
    "# this is needed because movies and items are 1-indexed\n",
    "num_users = r['userid'].max() + 1\n",
    "num_items = r['movieid'].max() + 1"
   ]
  },
  {
   "cell_type": "code",
   "execution_count": 16,
   "metadata": {
    "collapsed": true
   },
   "outputs": [],
   "source": [
    "def build_interaction_matrix(rows, cols, data):\n",
    "''' This method build a sparse matrix where ratings greater or equal\n",
    "to 4 are marked as 1 and all others are zero'''\n",
    "    mat = sp.lil_matrix((rows, cols))\n",
    "    for index, row in data.iterrows():\n",
    "        if row[\"rating\"] >= 4.0:\n",
    "            mat[row['userid'], row['movieid']] = 1.0\n",
    "    return mat.tocoo()"
   ]
  },
  {
   "cell_type": "code",
   "execution_count": 17,
   "metadata": {
    "collapsed": true
   },
   "outputs": [],
   "source": [
    "train_interaction = build_interaction_matrix(num_users, num_items, train)\n",
    "test_interaction = build_interaction_matrix(num_users, num_items, test)"
   ]
  },
  {
   "cell_type": "code",
   "execution_count": 18,
   "metadata": {},
   "outputs": [
    {
     "data": {
      "text/html": [
       "<div>\n",
       "<table border=\"1\" class=\"dataframe\">\n",
       "  <thead>\n",
       "    <tr style=\"text-align: right;\">\n",
       "      <th></th>\n",
       "      <th>userid</th>\n",
       "      <th>movieid</th>\n",
       "      <th>rating</th>\n",
       "    </tr>\n",
       "  </thead>\n",
       "  <tbody>\n",
       "    <tr>\n",
       "      <th>0</th>\n",
       "      <td>1</td>\n",
       "      <td>1193</td>\n",
       "      <td>5</td>\n",
       "    </tr>\n",
       "    <tr>\n",
       "      <th>1</th>\n",
       "      <td>1</td>\n",
       "      <td>661</td>\n",
       "      <td>3</td>\n",
       "    </tr>\n",
       "    <tr>\n",
       "      <th>2</th>\n",
       "      <td>1</td>\n",
       "      <td>914</td>\n",
       "      <td>3</td>\n",
       "    </tr>\n",
       "    <tr>\n",
       "      <th>3</th>\n",
       "      <td>1</td>\n",
       "      <td>3408</td>\n",
       "      <td>4</td>\n",
       "    </tr>\n",
       "    <tr>\n",
       "      <th>6</th>\n",
       "      <td>1</td>\n",
       "      <td>1287</td>\n",
       "      <td>5</td>\n",
       "    </tr>\n",
       "  </tbody>\n",
       "</table>\n",
       "</div>"
      ],
      "text/plain": [
       "   userid  movieid  rating\n",
       "0       1     1193       5\n",
       "1       1      661       3\n",
       "2       1      914       3\n",
       "3       1     3408       4\n",
       "6       1     1287       5"
      ]
     },
     "execution_count": 18,
     "metadata": {},
     "output_type": "execute_result"
    }
   ],
   "source": [
    "train.head()"
   ]
  },
  {
   "cell_type": "code",
   "execution_count": 19,
   "metadata": {
    "collapsed": true
   },
   "outputs": [],
   "source": [
    "# source code using Theano backend\n",
    "# https://github.com/maciejkula/triplet_recommendations_keras/blob/master/triplet_movielens.py\n",
    "def get_triplets(mat):\n",
    "    '''Method '''\n",
    "    return mat.row, mat.col, np.random.randint(mat.shape[1], size=len(mat.row))"
   ]
  },
  {
   "cell_type": "code",
   "execution_count": 20,
   "metadata": {
    "collapsed": true
   },
   "outputs": [],
   "source": [
    "def identity_loss(y_true, y_pred):\n",
    "    return K.mean(y_pred - 0 * y_true)"
   ]
  },
  {
   "cell_type": "code",
   "execution_count": 21,
   "metadata": {
    "collapsed": true
   },
   "outputs": [],
   "source": [
    "# Bayesian Personalized Ranking loss\n",
    "# https://pdfs.semanticscholar.org/1c2c/ae04e0e00dcec3fe6840b2daa00ae9e8a0a3.pdf\n",
    "\n",
    "def bpr_triplet_loss(X):\n",
    "''' Implementation of Bayesian Personalized Ranking loss where \n",
    "the objective is to rate positive items higher'''\n",
    "\n",
    "    positive_item_latent, negative_item_latent, user_latent = X\n",
    "\n",
    "    loss = 1.0 - K.sigmoid(\n",
    "        K.sum(user_latent * positive_item_latent, axis=-1, keepdims=True) -\n",
    "        K.sum(user_latent * negative_item_latent, axis=-1, keepdims=True))\n",
    "\n",
    "    return loss"
   ]
  },
  {
   "cell_type": "code",
   "execution_count": 22,
   "metadata": {
    "collapsed": true
   },
   "outputs": [],
   "source": [
    "# Size of the embeddings\n",
    "latent_dim = 100"
   ]
  },
  {
   "cell_type": "code",
   "execution_count": 27,
   "metadata": {
    "collapsed": true
   },
   "outputs": [],
   "source": [
    "positive_item_input = Input((1, ), name='positive_item_input')\n",
    "negative_item_input = Input((1, ), name='negative_item_input')\n",
    "\n",
    "# Shared embedding layer for positive and negative items\n",
    "item_embedding_layer = Embedding(\n",
    "    num_items, latent_dim, name='item_embedding', input_length=1)\n",
    "\n",
    "user_input = Input((1, ), name='user_input')\n",
    "\n",
    "# this makes sure that weights are shared\n",
    "positive_item_embedding = Flatten()(item_embedding_layer(\n",
    "    positive_item_input))\n",
    "negative_item_embedding = Flatten()(item_embedding_layer(\n",
    "    negative_item_input))\n",
    "user_embedding = Flatten()(Embedding(\n",
    "    num_users, latent_dim, name='user_embedding', input_length=1)(\n",
    "    user_input))"
   ]
  },
  {
   "cell_type": "code",
   "execution_count": 30,
   "metadata": {},
   "outputs": [
    {
     "name": "stderr",
     "output_type": "stream",
     "text": [
      "/Users/jaimealmeida/anaconda/envs/dl/lib/python3.6/site-packages/ipykernel/__main__.py:5: UserWarning: The `merge` function is deprecated and will be removed after 08/2017. Use instead layers from `keras.layers.merge`, e.g. `add`, `concatenate`, etc.\n",
      "/Users/jaimealmeida/anaconda/envs/dl/lib/python3.6/site-packages/keras/legacy/layers.py:456: UserWarning: The `Merge` layer is deprecated and will be removed after 08/2017. Use instead layers from `keras.layers.merge`, e.g. `add`, `concatenate`, etc.\n",
      "  name=name)\n"
     ]
    }
   ],
   "source": [
    "loss = merge(\n",
    "        [positive_item_embedding, negative_item_embedding, user_embedding],\n",
    "        mode=bpr_triplet_loss,\n",
    "        name='loss',\n",
    "        output_shape=(1, ))"
   ]
  },
  {
   "cell_type": "code",
   "execution_count": 33,
   "metadata": {},
   "outputs": [
    {
     "name": "stderr",
     "output_type": "stream",
     "text": [
      "/Users/jaimealmeida/anaconda/envs/dl/lib/python3.6/site-packages/ipykernel/__main__.py:3: UserWarning: Update your `Model` call to the Keras 2 API: `Model(inputs=[<tf.Tenso..., outputs=Tensor(\"lo...)`\n",
      "  app.launch_new_instance()\n"
     ]
    }
   ],
   "source": [
    "model = Model(\n",
    "    input=[positive_item_input, negative_item_input, user_input], \n",
    "    output=loss)"
   ]
  },
  {
   "cell_type": "code",
   "execution_count": 34,
   "metadata": {
    "collapsed": true
   },
   "outputs": [],
   "source": [
    "model.compile(loss=identity_loss, optimizer=\"adam\")"
   ]
  },
  {
   "cell_type": "code",
   "execution_count": 35,
   "metadata": {},
   "outputs": [
    {
     "name": "stdout",
     "output_type": "stream",
     "text": [
      "____________________________________________________________________________________________________\n",
      "Layer (type)                     Output Shape          Param #     Connected to                     \n",
      "====================================================================================================\n",
      "positive_item_input (InputLayer) (None, 1)             0                                            \n",
      "____________________________________________________________________________________________________\n",
      "negative_item_input (InputLayer) (None, 1)             0                                            \n",
      "____________________________________________________________________________________________________\n",
      "user_input (InputLayer)          (None, 1)             0                                            \n",
      "____________________________________________________________________________________________________\n",
      "item_embedding (Embedding)       (None, 1, 100)        395300                                       \n",
      "____________________________________________________________________________________________________\n",
      "user_embedding (Embedding)       (None, 1, 100)        604100                                       \n",
      "____________________________________________________________________________________________________\n",
      "flatten_1 (Flatten)              (None, 100)           0                                            \n",
      "____________________________________________________________________________________________________\n",
      "flatten_2 (Flatten)              (None, 100)           0                                            \n",
      "____________________________________________________________________________________________________\n",
      "flatten_3 (Flatten)              (None, 100)           0                                            \n",
      "____________________________________________________________________________________________________\n",
      "loss (Merge)                     (None, 1)             0                                            \n",
      "====================================================================================================\n",
      "Total params: 999,400.0\n",
      "Trainable params: 999,400.0\n",
      "Non-trainable params: 0.0\n",
      "____________________________________________________________________________________________________\n"
     ]
    }
   ],
   "source": [
    "model.summary()"
   ]
  },
  {
   "cell_type": "markdown",
   "metadata": {},
   "source": [
    "+ As problem is reframed to **binary classification** there is the need to evaluate its results accordingly. RMSE as used in the first model is no longer relevant."
   ]
  },
  {
   "cell_type": "code",
   "execution_count": 36,
   "metadata": {
    "collapsed": true
   },
   "outputs": [],
   "source": [
    "def full_auc(model, ground_truth):\n",
    "    \"\"\"\n",
    "    Measure AUC for model and ground truth on all items.\n",
    "\n",
    "    Returns:\n",
    "    - float AUC\n",
    "    \"\"\"\n",
    "\n",
    "    ground_truth = ground_truth.tocsr()\n",
    "#     print(ground_truth)\n",
    "\n",
    "    no_users, no_items = ground_truth.shape\n",
    "#     print(no_users, no_items)\n",
    "\n",
    "    pid_array = np.arange(no_items, dtype=np.int32)\n",
    "\n",
    "    scores = []\n",
    "\n",
    "    for user_id, row in enumerate(ground_truth):\n",
    "\n",
    "        predictions = predict(model, user_id, pid_array)\n",
    "#         print(predictions)\n",
    "#         print(\"row data\", row.data)\n",
    "#         print(\"row\")\n",
    "#         print(row)\n",
    "\n",
    "        true_pids = row.indices[row.data == 1]\n",
    "#         print(true_pids)\n",
    "\n",
    "        grnd = np.zeros(no_items, dtype=np.int32)\n",
    "        grnd[true_pids] = 1\n",
    "        grnd\n",
    "\n",
    "        if len(true_pids):\n",
    "            sc = roc_auc_score(grnd, predictions)\n",
    "#             print(\"sc\", sc)\n",
    "            scores.append(sc)\n",
    "\n",
    "    return sum(scores) / len(scores)"
   ]
  },
  {
   "cell_type": "code",
   "execution_count": 37,
   "metadata": {
    "collapsed": true
   },
   "outputs": [],
   "source": [
    "def predict(model, uid, pids):\n",
    "''' Prediction is obtained by dotting the weights of the user and items'''\n",
    "    user_vector = model.get_layer('user_embedding').get_weights()[0][uid]\n",
    "    item_matrix = model.get_layer('item_embedding').get_weights()[0][pids]\n",
    "\n",
    "    scores = (np.dot(user_vector,\n",
    "                     item_matrix.T))\n",
    "\n",
    "    return scores"
   ]
  },
  {
   "cell_type": "code",
   "execution_count": 38,
   "metadata": {},
   "outputs": [
    {
     "name": "stdout",
     "output_type": "stream",
     "text": [
      "AUC before training 0.501489089637\n"
     ]
    }
   ],
   "source": [
    "# The expected initial value is 0.5\n",
    "print('AUC before training %s' % full_auc(model, test_interaction))"
   ]
  },
  {
   "cell_type": "code",
   "execution_count": 39,
   "metadata": {
    "collapsed": true
   },
   "outputs": [],
   "source": [
    "num_epochs = 10"
   ]
  },
  {
   "cell_type": "code",
   "execution_count": 40,
   "metadata": {},
   "outputs": [
    {
     "name": "stdout",
     "output_type": "stream",
     "text": [
      "Epoch 0\n",
      "AUC 0.882614821951\n",
      "Epoch 1\n",
      "AUC 0.890137827732\n",
      "Epoch 2\n",
      "AUC 0.898631976608\n",
      "Epoch 3\n",
      "AUC 0.904835006503\n",
      "Epoch 4\n",
      "AUC 0.910156371983\n",
      "Epoch 5\n",
      "AUC 0.914453605606\n",
      "Epoch 6\n",
      "AUC 0.91771299387\n",
      "Epoch 7\n",
      "AUC 0.920173463188\n",
      "Epoch 8\n",
      "AUC 0.922038165003\n",
      "Epoch 9\n",
      "AUC 0.92361321141\n"
     ]
    }
   ],
   "source": [
    "for epoch in range(num_epochs):\n",
    "\n",
    "    print('Epoch %s' % epoch)\n",
    "\n",
    "    # Sample triplets from the training data\n",
    "    uid, pid, nid = get_triplets(train_interaction)\n",
    "\n",
    "    X = {\n",
    "        'user_input': uid,\n",
    "        'positive_item_input': pid,\n",
    "        'negative_item_input': nid\n",
    "    }\n",
    "\n",
    "    model.fit(X,\n",
    "              np.ones(len(uid)),\n",
    "              batch_size=64,\n",
    "              epochs=1,\n",
    "              verbose=0,\n",
    "              shuffle=True)\n",
    "\n",
    "    print('AUC %s' % full_auc(model, test_interaction))"
   ]
  },
  {
   "cell_type": "code",
   "execution_count": null,
   "metadata": {
    "collapsed": true
   },
   "outputs": [],
   "source": []
  }
 ],
 "metadata": {
  "celltoolbar": "Slideshow",
  "kernelspec": {
   "display_name": "Python 3",
   "language": "python",
   "name": "python3"
  },
  "language_info": {
   "codemirror_mode": {
    "name": "ipython",
    "version": 3
   },
   "file_extension": ".py",
   "mimetype": "text/x-python",
   "name": "python",
   "nbconvert_exporter": "python",
   "pygments_lexer": "ipython3",
   "version": "3.6.0"
  }
 },
 "nbformat": 4,
 "nbformat_minor": 2
}
